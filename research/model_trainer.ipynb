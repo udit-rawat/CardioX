{
 "cells": [
  {
   "cell_type": "code",
   "execution_count": 1,
   "metadata": {},
   "outputs": [],
   "source": [
    "from pathlib import Path\n",
    "from dataclasses import dataclass\n",
    "import os\n",
    "os.chdir(\"../\")"
   ]
  },
  {
   "cell_type": "code",
   "execution_count": 8,
   "metadata": {},
   "outputs": [],
   "source": [
    "@dataclass(frozen=True)\n",
    "class ModelTrainerConfig:\n",
    "    root_dir: Path\n",
    "    train_data_path: Path\n",
    "    test_data_path: Path\n",
    "    model_name: str\n",
    "    subsample: float\n",
    "    scale_pos_weight: float\n",
    "    n_estimators: int\n",
    "    min_child_weight:int\n",
    "    max_depth: int\n",
    "    learning_rate: float\n",
    "    gamma: float\n",
    "    colsample_bytree: float\n",
    "    target_column: str"
   ]
  },
  {
   "cell_type": "code",
   "execution_count": 9,
   "metadata": {},
   "outputs": [],
   "source": [
    "from src.mlpro.constants import *\n",
    "from src.mlpro.utils.common import read_yaml, create_directories"
   ]
  },
  {
   "cell_type": "code",
   "execution_count": 10,
   "metadata": {},
   "outputs": [],
   "source": [
    "class ConfigurationManager:\n",
    "    def __init__(\n",
    "            self,\n",
    "            config_filepath=CONFIG_FILE_PATH,\n",
    "            params_filepath=PARAMS_FILE_PATH,\n",
    "            schema_filepath=SCHEMA_FILE_PATH):\n",
    "\n",
    "        self.config = read_yaml(config_filepath)\n",
    "        self.params = read_yaml(params_filepath)\n",
    "        self.schema = read_yaml(schema_filepath)\n",
    "\n",
    "        create_directories([self.config.artifacts_root])\n",
    "\n",
    "    def get_model_trainer_config(self) -> ModelTrainerConfig:\n",
    "        config = self.config.model_trainer\n",
    "        params = self.params.xgboost_param\n",
    "        schema = self.schema.TARGET_COLUMN\n",
    "\n",
    "        create_directories([config.root_dir])\n",
    "\n",
    "        model_trainer_config = ModelTrainerConfig(\n",
    "            root_dir=config.root_dir,\n",
    "            train_data_path=config.train_data_path,\n",
    "            test_data_path=config.test_data_path,\n",
    "            model_name=config.model_name,\n",
    "            subsample= params.subsample,\n",
    "            scale_pos_weight = params.scale_pos_weight,\n",
    "            n_estimators= params.n_estimators,\n",
    "            min_child_weight=params.min_child_weight,\n",
    "            max_depth=params.max_depth,\n",
    "            learning_rate=params.learning_rate,\n",
    "            gamma=params.gamma,\n",
    "            colsample_bytree=params.colsample_bytree,\n",
    "            target_column=schema.name\n",
    "        )\n",
    "\n",
    "        return model_trainer_config"
   ]
  },
  {
   "cell_type": "code",
   "execution_count": 11,
   "metadata": {},
   "outputs": [],
   "source": [
    "from xgboost import XGBClassifier\n",
    "import joblib\n",
    "import pandas as pd\n",
    "from src.mlpro import logger"
   ]
  },
  {
   "cell_type": "code",
   "execution_count": 14,
   "metadata": {},
   "outputs": [],
   "source": [
    "class ModelTrainer:\n",
    "    def __init__(self, config: ModelTrainerConfig):\n",
    "        self.config = config\n",
    "\n",
    "    def train(self):\n",
    "        train_data = pd.read_csv(self.config.train_data_path)\n",
    "        test_data = pd.read_csv(self.config.test_data_path)\n",
    "\n",
    "\n",
    "        train_x = train_data.drop([self.config.target_column], axis=1).to_numpy()\n",
    "        train_y = train_data[self.config.target_column].values\n",
    "\n",
    "\n",
    "        xgb = XGBClassifier(\n",
    "        subsample=self.config.subsample,\n",
    "        scale_pos_weight=self.config.scale_pos_weight,\n",
    "        n_estimators=self.config.n_estimators,\n",
    "        min_child_weight=self.config.min_child_weight,\n",
    "        max_depth=self.config.max_depth,\n",
    "        learning_rate=self.config.learning_rate,\n",
    "        gamma=self.config.gamma,\n",
    "        colsample_bytree=self.config.colsample_bytree,\n",
    "        random_state=108)\n",
    "\n",
    "\n",
    "        xgb.fit(train_x, train_y)\n",
    "\n",
    "        joblib.dump(xgb, os.path.join(\n",
    "            self.config.root_dir, self.config.model_name))"
   ]
  },
  {
   "cell_type": "code",
   "execution_count": 15,
   "metadata": {},
   "outputs": [
    {
     "name": "stdout",
     "output_type": "stream",
     "text": [
      "[2024-10-13 17:46:43,013: INFO: common: yaml file: config/config.yaml loaded successfully]\n",
      "[2024-10-13 17:46:43,016: INFO: common: yaml file: params.yaml loaded successfully]\n",
      "[2024-10-13 17:46:43,019: INFO: common: yaml file: schema.yaml loaded successfully]\n",
      "[2024-10-13 17:46:43,020: INFO: common: created directory at: artifacts]\n",
      "[2024-10-13 17:46:43,021: INFO: common: created directory at: artifacts/model_trainer]\n"
     ]
    }
   ],
   "source": [
    "try:\n",
    "    config = ConfigurationManager()\n",
    "    model_trainer_config = config.get_model_trainer_config()\n",
    "    model_trainer_config = ModelTrainer(config=model_trainer_config)\n",
    "    model_trainer_config.train()\n",
    "except Exception as e:\n",
    "    raise e"
   ]
  },
  {
   "cell_type": "code",
   "execution_count": null,
   "metadata": {},
   "outputs": [],
   "source": []
  }
 ],
 "metadata": {
  "kernelspec": {
   "display_name": "cardiox-e",
   "language": "python",
   "name": "python3"
  },
  "language_info": {
   "codemirror_mode": {
    "name": "ipython",
    "version": 3
   },
   "file_extension": ".py",
   "mimetype": "text/x-python",
   "name": "python",
   "nbconvert_exporter": "python",
   "pygments_lexer": "ipython3",
   "version": "3.11.8"
  }
 },
 "nbformat": 4,
 "nbformat_minor": 2
}
